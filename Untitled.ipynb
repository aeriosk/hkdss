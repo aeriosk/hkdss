{
 "cells": [
  {
   "cell_type": "code",
   "execution_count": null,
   "metadata": {},
   "outputs": [],
   "source": [
    "import pandas as pd"
   ]
  },
  {
   "cell_type": "code",
   "execution_count": null,
   "metadata": {},
   "outputs": [],
   "source": [
    "# Load the data into Python\n",
    "df = pd.read_csv(\"data.csv\")"
   ]
  },
  {
   "cell_type": "code",
   "execution_count": null,
   "metadata": {},
   "outputs": [],
   "source": [
    "#Transforming the data\n",
    "df2 = df.dropna()\n",
    "\n",
    "df3 = df.dropna(subset=['Age'])\n",
    "df3.head()\n",
    "df3 = df.Age.dropna()"
   ]
  },
  {
   "cell_type": "code",
   "execution_count": null,
   "metadata": {},
   "outputs": [],
   "source": [
    "df['Age'].median()\n",
    "df['Age'] = df['Age'].fillna(df['Age'].median())"
   ]
  },
  {
   "cell_type": "code",
   "execution_count": null,
   "metadata": {},
   "outputs": [],
   "source": [
    "df.loc[df['Embarked']=='S','Embarked'] = 'Southampton'"
   ]
  },
  {
   "cell_type": "code",
   "execution_count": null,
   "metadata": {},
   "outputs": [],
   "source": [
    "df.loc[df['Sex'] == 'male']\n",
    "df.loc[df['Sex'] == 'male', 'Sex']\n",
    "df.loc[df[\"Sex\"] == \"male\", \"Sex\"] = \"M\"\n",
    "df.loc[df[\"Sex\"] == \"female\", \"Sex\"] = \"F\""
   ]
  },
  {
   "cell_type": "code",
   "execution_count": null,
   "metadata": {},
   "outputs": [],
   "source": [
    "#Who were the titanic passangers?\n",
    "import seaborn as sns\n",
    "%matplotlib inline\n",
    "sns.catplot(\"Sex\", data=df, kind=\"count\")\n",
    "sns.catplot(\"Pclass\", data = df, kind = 'count')\n",
    "sns.catplot(\"Pclass\", data=df, hue=\"Sex\", kind = \"count\")"
   ]
  },
  {
   "cell_type": "code",
   "execution_count": null,
   "metadata": {},
   "outputs": [],
   "source": [
    "#What about the children?\n",
    "def man_woman_child(passenger):\n",
    "    age, sex = passenger\n",
    "    if age < 16:\n",
    "        return \"C\"\n",
    "    else:\n",
    "        return sex"
   ]
  },
  {
   "cell_type": "code",
   "execution_count": null,
   "metadata": {},
   "outputs": [],
   "source": [
    "df[\"who\"] = df[[\"Age\", \"Sex\"]].apply(man_woman_child, axis=1)\n",
    "sns.catplot(\"who\", data=df, kind = \"count\");"
   ]
  },
  {
   "cell_type": "code",
   "execution_count": null,
   "metadata": {},
   "outputs": [],
   "source": [
    "#Where were our passenger's cabin\n",
    "df[\"deck\"] = df.Cabin.str[0]\n",
    "sns.catplot(\"deck\", data=df, palette=\"BuPu_d\", kind = \"count\", order = ['A','B','C','D','E','F','G','T'])"
   ]
  },
  {
   "cell_type": "code",
   "execution_count": null,
   "metadata": {},
   "outputs": [],
   "source": [
    "df.loc[df.Cabin == 'T']\n",
    "df = df.loc[df.deck != \"T\"]\n",
    "sns.catplot(\"deck\", data=df, palette=\"BuPu_d\", kind = \"count\",order = ['A','B','C','D','E','F','G']);"
   ]
  },
  {
   "cell_type": "code",
   "execution_count": null,
   "metadata": {},
   "outputs": [],
   "source": [
    "#How much did they pay for their tickets\n",
    "#sns.factorplot(\"deck\", \"Fare\", data=df, palette=\"PuBu_d\", kind = \"bar\");\n",
    "A = df.loc[df[\"deck\"] == \"A\"]\n",
    "A.describe()"
   ]
  },
  {
   "cell_type": "code",
   "execution_count": null,
   "metadata": {},
   "outputs": [],
   "source": [
    "deckOrder=['A','B','C','D','E','F','G','T']\n",
    "sns.catplot(\"deck\", \"Fare\", kind = 'box',data=df, order = deckOrder);\n",
    "sns.catplot(\"deck\", \"Fare\", kind = 'box',data=df, order = deckOrder).set(ylim=(0,300))\n",
    "C = df.loc[df[\"deck\"] == \"B\"]\n",
    "C.describe()"
   ]
  },
  {
   "cell_type": "code",
   "execution_count": null,
   "metadata": {},
   "outputs": [],
   "source": [
    "#What made people survive the sinking\n",
    "sns.catplot(\"Pclass\", \"Survived\", data=df,kind='point').set(ylim=(0, 1))\n",
    "sns.catplot(\"Pclass\", \"Survived\", data=df, hue=\"Sex\", kind='point').set(ylim=(0, 1));"
   ]
  },
  {
   "cell_type": "code",
   "execution_count": null,
   "metadata": {},
   "outputs": [],
   "source": [
    "df.loc[(df.Pclass == 2) & (df.Sex == 'F')].describe()"
   ]
  },
  {
   "cell_type": "code",
   "execution_count": null,
   "metadata": {},
   "outputs": [],
   "source": [
    "df.loc[(df.Pclass == 2) & (df.Sex == 'M')].describe()"
   ]
  },
  {
   "cell_type": "code",
   "execution_count": null,
   "metadata": {},
   "outputs": [],
   "source": [
    "sns.catplot(\"Pclass\", \"Survived\", data=df, hue=\"who\", kind='point', ci = 0).set(ylim=(0, 1))"
   ]
  },
  {
   "cell_type": "code",
   "execution_count": null,
   "metadata": {},
   "outputs": [],
   "source": []
  }
 ],
 "metadata": {
  "hide_input": false,
  "kernelspec": {
   "display_name": "Python 3",
   "language": "python",
   "name": "python3"
  },
  "language_info": {
   "codemirror_mode": {
    "name": "ipython",
    "version": 3
   },
   "file_extension": ".py",
   "mimetype": "text/x-python",
   "name": "python",
   "nbconvert_exporter": "python",
   "pygments_lexer": "ipython3",
   "version": "3.6.4"
  },
  "varInspector": {
   "cols": {
    "lenName": 16,
    "lenType": 16,
    "lenVar": 40
   },
   "kernels_config": {
    "python": {
     "delete_cmd_postfix": "",
     "delete_cmd_prefix": "del ",
     "library": "var_list.py",
     "varRefreshCmd": "print(var_dic_list())"
    },
    "r": {
     "delete_cmd_postfix": ") ",
     "delete_cmd_prefix": "rm(",
     "library": "var_list.r",
     "varRefreshCmd": "cat(var_dic_list()) "
    }
   },
   "types_to_exclude": [
    "module",
    "function",
    "builtin_function_or_method",
    "instance",
    "_Feature"
   ],
   "window_display": false
  }
 },
 "nbformat": 4,
 "nbformat_minor": 2
}
