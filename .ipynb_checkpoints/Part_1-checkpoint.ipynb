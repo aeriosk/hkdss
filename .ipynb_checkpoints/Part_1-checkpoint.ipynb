{
 "cells": [
  {
   "cell_type": "markdown",
   "metadata": {},
   "source": [
    "# HKDSS - Python & Data Science 101\n",
    "## Lets Start\n",
    "\n",
    "*Try this in the below cell anc click ```ctrl + Enter``` to execute the below code:* "
   ]
  },
  {
   "cell_type": "code",
   "execution_count": null,
   "metadata": {},
   "outputs": [],
   "source": [
    "x = 1"
   ]
  },
  {
   "cell_type": "markdown",
   "metadata": {},
   "source": [
    "Try this:\n",
    "\n",
    "x.\n",
    "Without pressing ENTER, press TAB."
   ]
  },
  {
   "cell_type": "code",
   "execution_count": null,
   "metadata": {},
   "outputs": [],
   "source": [
    "x."
   ]
  },
  {
   "cell_type": "markdown",
   "metadata": {},
   "source": [
    "### Creating variables"
   ]
  },
  {
   "cell_type": "code",
   "execution_count": null,
   "metadata": {},
   "outputs": [],
   "source": [
    "var1 = 15\n",
    "var2= 10.3\n",
    "print(var1)\n",
    "print(var2)\n",
    "string1 = 'Hello World'\n",
    "print(string1)"
   ]
  },
  {
   "cell_type": "markdown",
   "metadata": {},
   "source": [
    "### Inclass Exercises: Number and Strings\n",
    "\n",
    "- Assign the value 7 to a variable a\n",
    "- Assign the value “Hello World” to the variable b\n",
    "- Print a and b\n",
    "- Print the value 1000\n",
    "- Print the type of a and b\n",
    "- Using variable a and (+,-,*,/) and other numbers print out -10\n"
   ]
  },
  {
   "cell_type": "code",
   "execution_count": null,
   "metadata": {},
   "outputs": [],
   "source": [
    "# Your code here\n",
    "\n",
    "\n"
   ]
  },
  {
   "cell_type": "markdown",
   "metadata": {},
   "source": [
    "### Reading CSV and create a Pandas DataFrame from CSV data"
   ]
  },
  {
   "cell_type": "code",
   "execution_count": null,
   "metadata": {},
   "outputs": [],
   "source": [
    "import pandas as pd\n",
    "d2 = pd.read_csv (\"d2.csv\")\n",
    "print(d2['Sales'].sum())"
   ]
  },
  {
   "cell_type": "markdown",
   "metadata": {},
   "source": [
    "- d2.head(5) to display the top 5 rows\n",
    "- d2.iloc allows selection of a row by row number\n",
    "- d2.loc allows selection of a row by index value"
   ]
  },
  {
   "cell_type": "code",
   "execution_count": null,
   "metadata": {},
   "outputs": [],
   "source": [
    "d2.head(5)"
   ]
  },
  {
   "cell_type": "code",
   "execution_count": null,
   "metadata": {},
   "outputs": [],
   "source": [
    "d2.iloc[3]"
   ]
  },
  {
   "cell_type": "markdown",
   "metadata": {},
   "source": [
    "### Inclass Exercises: Reading CSV\n",
    "- Read the titanic CSV file (data.csv) and assign it to variable \"df\"\n",
    "- Run the command head(5) on the file\n",
    "- Run the command describe() on the file\n",
    "- Run the command info() on the file\n",
    "- Print out row 58 from the file.\n",
    "- Find the sum of all the fare\n",
    "- Tell me what is interesting about the data"
   ]
  },
  {
   "cell_type": "markdown",
   "metadata": {},
   "source": [
    "| Method   |      What it does      | \n",
    "|---------------|:-------------:|\n",
    "| df.head(n) |  First n rows of the DataFrame |\n",
    "| df.tail(n)|   Last n rows of the DataFrame  | \n",
    "| df.shape | Number of rows and columns|\n",
    "| df.info() | Index, Datatype and Memory information |\n",
    "| df.describe() | Summary statistics for numerical columns |\n",
    "| s.value_counts(dropna=False) | View unique values and counts |\n",
    "| df.apply(pd.Series.value_counts) | Unique values and counts for all columns |"
   ]
  },
  {
   "cell_type": "code",
   "execution_count": null,
   "metadata": {},
   "outputs": [],
   "source": [
    "# Your code here\n",
    "\n",
    "\n"
   ]
  },
  {
   "cell_type": "markdown",
   "metadata": {},
   "source": [
    "### Visualizing the data\n",
    "#### Seaborn CatPlot (Categorical Plots)\n",
    "- A categorical plot is simply the same plot generated for different categorial variables\n",
    "- Default is a strip plot\n",
    "- kind : {point, bar, count, box, violin, strip}\n",
    "\n",
    "#### Who were the titanic passangers?\n",
    "- Make a catplot with deck on x-axis and Age on the y-axis\n",
    "- Check if the deck B bar is correct by using describe()\n",
    "- Plot the graph of each deck with the class they belong in\n",
    "- Plot the graph of each deck with the who column using a different palette"
   ]
  },
  {
   "cell_type": "code",
   "execution_count": null,
   "metadata": {},
   "outputs": [],
   "source": [
    "df = pd.read_csv('data.csv')\n",
    "\n",
    "import seaborn as sns\n",
    "%matplotlib inline\n",
    "sns.catplot(\"Sex\", data=df, kind=\"count\")\n",
    "sns.catplot(\"Pclass\", data = df, kind = 'count')\n",
    "sns.catplot(\"Pclass\", data=df, hue=\"Sex\", kind = \"count\")"
   ]
  },
  {
   "cell_type": "markdown",
   "metadata": {},
   "source": [
    "### Transforming the data\n",
    "#### Removing null values\n",
    "- dropna – a function that drop missing values\n",
    "- dropna(subset = ['Age']) to remove all rows with no Age values\n",
    "\n",
    "- Pandas .loc function selects the data you want\n",
    "- notnull() returns rows that does not have null\n",
    "- df2 = df.loc[df.Age.notnull()]\n",
    "\n",
    "#### Filling in missing value\n",
    "- fillna – a function that replace missing values with things you want\n",
    "- df[“Age”].median() returns the median of the columns\n",
    "- df['Age'] = df[“Age”].fillna(df['Age'].median())"
   ]
  },
  {
   "cell_type": "code",
   "execution_count": null,
   "metadata": {},
   "outputs": [],
   "source": [
    "df['Age'] = df['Age'].fillna(df['Age'].median())"
   ]
  },
  {
   "cell_type": "markdown",
   "metadata": {},
   "source": [
    "### Inclass Exercises: Transforming the data\n",
    "- Replace the missing value in the embarked column with S\n",
    "- Assign the code “Southampton” to S\n",
    "- Assign the code “Cherbourg” to C\n",
    "- Assign the code “Queenstown” to Q\n",
    "- Write the file to “embarked.csv”"
   ]
  },
  {
   "cell_type": "code",
   "execution_count": null,
   "metadata": {},
   "outputs": [],
   "source": [
    "# Your code here\n",
    "\n",
    "\n"
   ]
  },
  {
   "cell_type": "markdown",
   "metadata": {},
   "source": [
    "### Basic Python Tutorial (List)\n",
    "|    Python   Expression               |    Results                           |    Description      |\n",
    "|--------------------------------------|--------------------------------------|---------------------|\n",
    "|    list2[1]   = “z”                  |    ['a',   'z', 'c', 'd']            |    Updating         |\n",
    "|    del   list2[1]                    |    ['a',   'c', 'd']                 |    Deleting         |\n",
    "|    list2.append(\"e\")                 |    ['a',   'c', 'd', 'e']            |    Appending        |\n",
    "|    list2   = list2[2:]               |    ['d',   'e']                      |    Slicing          |\n",
    "|    len([1, 2, 3])                    |    3                                 |    Length           |\n",
    "|    [1,   2, 3] + [4, 5, 6]           |    [1,   2, 3, 4, 5, 6]              |    Concatenation    |\n",
    "|    ['Hi!']   * 4                     |    ['Hi!',   'Hi!', 'Hi!', 'Hi!']    |    Repetition       |\n",
    "|    3   in [1, 2, 3]                  |    True                              |    Membership       |\n",
    "|    for   x in [1, 2, 3]: print x,    |    1 2   3                           |    Iteration        |"
   ]
  },
  {
   "cell_type": "code",
   "execution_count": null,
   "metadata": {},
   "outputs": [],
   "source": [
    "list1 = [1,2,3,4,5]\n",
    "list2 = ['a','b','c','d']\n",
    "print(list1)\n",
    "print(list2[2])\n",
    "print(list2[1:3])"
   ]
  },
  {
   "cell_type": "markdown",
   "metadata": {},
   "source": [
    "### Basic Python Tutorial (Dict)\n",
    "- A list of items that uses a key to reference a value. Associate one thing to another.\n",
    "- Each key is separated from its value by a colon (:)\n",
    "- The items are separated by commas, and the whole thing is enclosed in curly braces.\n",
    "- staffinfo = {'name': 'John', 'age':30, 'height':160}"
   ]
  },
  {
   "cell_type": "code",
   "execution_count": null,
   "metadata": {},
   "outputs": [],
   "source": [
    "staffinfo = {'name': 'John', 'age':30, 'height':160}"
   ]
  },
  {
   "cell_type": "markdown",
   "metadata": {},
   "source": [
    "### Basic Python Tutorial (Function)\n",
    "- Functions are created through the key word def followed by the name of the functions and parentheses\n",
    "- Functions are called by writing the function name. \n",
    "- Print() is an example of a function\n",
    "- You can pass parameters into the function by putting it in the parentheses"
   ]
  },
  {
   "cell_type": "code",
   "execution_count": null,
   "metadata": {},
   "outputs": [],
   "source": [
    "def func(a,b):\n",
    "    return a+b\n",
    "\n",
    "def func2(a,b):\n",
    "    print(a)\n",
    "    print(b)\n",
    "\n",
    "#calling the function\n",
    "func2('one','two')"
   ]
  },
  {
   "cell_type": "markdown",
   "metadata": {},
   "source": [
    "### Basic Python Tutorial (Logical Operations)\n",
    "\n",
    "\n",
    "\n",
    "|    Operator                          |    Description                                                                                                  |    Example                                                |\n",
    "|--------------------------------------|-----------------------------------------------------------------------------------------------------------------|-----------------------------------------------------------|\n",
    "|    ==                                |    If   the values of two operands are equal, then the condition becomes true.                                  |    (a   == b) is not true.                                |\n",
    "|    !=                                |    If   values of two operands are not equal, then condition becomes true.                                      |                                                           |\n",
    "|    <>                                |    If   values of two operands are not equal, then condition becomes true.                                      |    (a   <> b) is true. This is similar to != operator.    |\n",
    "|    >                                 |    If   the value of left operand is greater than the value of right operand, then   condition becomes true.    |    (a   > b) is not true.                                 |\n",
    "|    <                                 |    If   the value of left operand is less than the value of right operand, then   condition becomes true.       |    (a   < b) is true.                                     |\n",
    "|    [1,   2, 3] + [4, 5, 6]           |    [1,   2, 3, 4, 5, 6]                                                                                         |    Concatenation                                          |\n",
    "|    ['Hi!']   * 4                     |    ['Hi!',   'Hi!', 'Hi!', 'Hi!']                                                                               |    Repetition                                             |\n",
    "|    3   in [1, 2, 3]                  |    True                                                                                                         |    Membership                                             |\n",
    "|    for   x in [1, 2, 3]: print x,    |    1 2   3                                                                                                      |    Iteration                                              |"
   ]
  },
  {
   "cell_type": "code",
   "execution_count": null,
   "metadata": {},
   "outputs": [],
   "source": [
    "def func(a):\n",
    "    if a==True:\n",
    "        print('True')"
   ]
  },
  {
   "cell_type": "markdown",
   "metadata": {},
   "source": [
    "### Pandas Apply function"
   ]
  },
  {
   "cell_type": "code",
   "execution_count": null,
   "metadata": {},
   "outputs": [],
   "source": [
    "#What about the children?\n",
    "def man_woman_child(passenger):\n",
    "    age, sex = passenger\n",
    "    if age < 16:\n",
    "        return \"C\"\n",
    "    else:\n",
    "        return sex"
   ]
  },
  {
   "cell_type": "code",
   "execution_count": null,
   "metadata": {},
   "outputs": [],
   "source": [
    "df[\"who\"] = df[[\"Age\", \"Sex\"]].apply(man_woman_child, axis=1)\n",
    "sns.catplot(\"who\", data=df, kind = \"count\");"
   ]
  },
  {
   "cell_type": "markdown",
   "metadata": {},
   "source": [
    "### Where are our passenger distrubuted in deck?\n",
    "- deck is the first english alphabet of the carbin number\n",
    "- eg. Carbin C132 is on Deck level C"
   ]
  },
  {
   "cell_type": "code",
   "execution_count": null,
   "metadata": {},
   "outputs": [],
   "source": [
    "df[\"deck\"] = df.Cabin.str[0]\n",
    "sns.catplot(\"deck\", data=df, palette=\"BuPu_d\", kind = \"count\", order = ['A','B','C','D','E','F','G'])"
   ]
  },
  {
   "cell_type": "markdown",
   "metadata": {},
   "source": [
    "### Who are the passengers on Deck B?"
   ]
  },
  {
   "cell_type": "code",
   "execution_count": null,
   "metadata": {},
   "outputs": [],
   "source": [
    "B = df.loc[df[\"deck\"] == \"B\"]\n",
    "B.describe()"
   ]
  },
  {
   "cell_type": "markdown",
   "metadata": {},
   "source": [
    "### Final Exercises\n",
    "- How do we visualize those who survived based on the who column?\t\n",
    "- How do we visualize those who survived based on the deck column?"
   ]
  },
  {
   "cell_type": "code",
   "execution_count": null,
   "metadata": {},
   "outputs": [],
   "source": [
    "# Your code here\n",
    "\n",
    "\n"
   ]
  },
  {
   "cell_type": "markdown",
   "metadata": {},
   "source": [
    "### What made people survive the sinking?"
   ]
  },
  {
   "cell_type": "code",
   "execution_count": null,
   "metadata": {},
   "outputs": [],
   "source": [
    "sns.catplot(\"Pclass\", \"Survived\", data=df,kind='point').set(ylim=(0, 1))\n",
    "sns.catplot(\"Pclass\", \"Survived\", data=df, hue=\"Sex\", kind='point').set(ylim=(0, 1));"
   ]
  },
  {
   "cell_type": "code",
   "execution_count": null,
   "metadata": {},
   "outputs": [],
   "source": []
  }
 ],
 "metadata": {
  "hide_input": false,
  "kernelspec": {
   "display_name": "Python 3",
   "language": "python",
   "name": "python3"
  },
  "language_info": {
   "codemirror_mode": {
    "name": "ipython",
    "version": 3
   },
   "file_extension": ".py",
   "mimetype": "text/x-python",
   "name": "python",
   "nbconvert_exporter": "python",
   "pygments_lexer": "ipython3",
   "version": "3.6.4"
  },
  "varInspector": {
   "cols": {
    "lenName": 16,
    "lenType": 16,
    "lenVar": 40
   },
   "kernels_config": {
    "python": {
     "delete_cmd_postfix": "",
     "delete_cmd_prefix": "del ",
     "library": "var_list.py",
     "varRefreshCmd": "print(var_dic_list())"
    },
    "r": {
     "delete_cmd_postfix": ") ",
     "delete_cmd_prefix": "rm(",
     "library": "var_list.r",
     "varRefreshCmd": "cat(var_dic_list()) "
    }
   },
   "types_to_exclude": [
    "module",
    "function",
    "builtin_function_or_method",
    "instance",
    "_Feature"
   ],
   "window_display": false
  }
 },
 "nbformat": 4,
 "nbformat_minor": 2
}
